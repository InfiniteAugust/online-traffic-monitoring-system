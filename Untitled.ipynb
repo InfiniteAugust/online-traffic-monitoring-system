{
 "cells": [
  {
   "cell_type": "code",
   "execution_count": 1,
   "metadata": {},
   "outputs": [],
   "source": [
    "from PIL import Image"
   ]
  },
  {
   "cell_type": "code",
   "execution_count": 2,
   "metadata": {},
   "outputs": [
    {
     "data": {
      "text/plain": [
       "PIL.Image.Image"
      ]
     },
     "execution_count": 2,
     "metadata": {},
     "output_type": "execute_result"
    }
   ],
   "source": [
    "type(Image.new('RGB', (1280,720), (128,128,128)))"
   ]
  },
  {
   "cell_type": "code",
   "execution_count": 1,
   "metadata": {},
   "outputs": [],
   "source": [
    "import cv2"
   ]
  },
  {
   "cell_type": "code",
   "execution_count": 4,
   "metadata": {},
   "outputs": [
    {
     "name": "stdout",
     "output_type": "stream",
     "text": [
      "Help on built-in function TrackerMIL_create:\n",
      "\n",
      "TrackerMIL_create(...)\n",
      "    TrackerMIL_create() -> retval\n",
      "    .   @brief Constructor\n",
      "    .   @param parameters MIL parameters TrackerMIL::Params\n",
      "\n"
     ]
    }
   ],
   "source": [
    "help(cv2.TrackerMIL_create)"
   ]
  },
  {
   "cell_type": "code",
   "execution_count": 5,
   "metadata": {},
   "outputs": [],
   "source": [
    "tracker = cv2.TrackerKCF_create()"
   ]
  },
  {
   "cell_type": "code",
   "execution_count": 6,
   "metadata": {},
   "outputs": [
    {
     "name": "stdout",
     "output_type": "stream",
     "text": [
      "Help on built-in function rectangle:\n",
      "\n",
      "rectangle(...)\n",
      "    rectangle(img, pt1, pt2, color[, thickness[, lineType[, shift]]]) -> img\n",
      "    .   @brief Draws a simple, thick, or filled up-right rectangle.\n",
      "    .   \n",
      "    .   The function cv::rectangle draws a rectangle outline or a filled rectangle whose two opposite corners\n",
      "    .   are pt1 and pt2.\n",
      "    .   \n",
      "    .   @param img Image.\n",
      "    .   @param pt1 Vertex of the rectangle.\n",
      "    .   @param pt2 Vertex of the rectangle opposite to pt1 .\n",
      "    .   @param color Rectangle color or brightness (grayscale image).\n",
      "    .   @param thickness Thickness of lines that make up the rectangle. Negative values, like #FILLED,\n",
      "    .   mean that the function has to draw a filled rectangle.\n",
      "    .   @param lineType Type of the line. See #LineTypes\n",
      "    .   @param shift Number of fractional bits in the point coordinates.\n",
      "\n"
     ]
    }
   ],
   "source": [
    "help(cv2.rectangle)"
   ]
  },
  {
   "cell_type": "code",
   "execution_count": 7,
   "metadata": {},
   "outputs": [
    {
     "ename": "NameError",
     "evalue": "name 'input_video' is not defined",
     "output_type": "error",
     "traceback": [
      "\u001b[0;31m---------------------------------------------------------------------------\u001b[0m",
      "\u001b[0;31mNameError\u001b[0m                                 Traceback (most recent call last)",
      "\u001b[0;32m<ipython-input-7-8e3f520fcd2e>\u001b[0m in \u001b[0;36m<module>\u001b[0;34m()\u001b[0m\n\u001b[0;32m----> 1\u001b[0;31m \u001b[0mret\u001b[0m\u001b[0;34m,\u001b[0m \u001b[0mframe\u001b[0m \u001b[0;34m=\u001b[0m \u001b[0minput_video\u001b[0m\u001b[0;34m.\u001b[0m\u001b[0mread\u001b[0m\u001b[0;34m(\u001b[0m\u001b[0;34m)\u001b[0m\u001b[0;34m\u001b[0m\u001b[0m\n\u001b[0m",
      "\u001b[0;31mNameError\u001b[0m: name 'input_video' is not defined"
     ]
    }
   ],
   "source": [
    "ret, frame = input_video.read()"
   ]
  },
  {
   "cell_type": "code",
   "execution_count": 17,
   "metadata": {},
   "outputs": [],
   "source": [
    "frame = frame.astype('float16') / 255"
   ]
  },
  {
   "cell_type": "code",
   "execution_count": 18,
   "metadata": {},
   "outputs": [
    {
     "data": {
      "text/plain": [
       "array([[[0.01569, 0.04706, 0.04315],\n",
       "        [0.06274, 0.0941 , 0.0902 ],\n",
       "        [0.098  , 0.1294 , 0.1255 ],\n",
       "        ...,\n",
       "        [0.0902 , 0.1372 , 0.1333 ],\n",
       "        [0.1137 , 0.1608 , 0.1569 ],\n",
       "        [0.04315, 0.0902 , 0.0863 ]],\n",
       "\n",
       "       [[0.0902 , 0.1216 , 0.1177 ],\n",
       "        [0.1412 , 0.1726 , 0.1686 ],\n",
       "        [0.1726 , 0.204  , 0.2    ],\n",
       "        ...,\n",
       "        [0.2471 , 0.2942 , 0.2903 ],\n",
       "        [0.1843 , 0.2313 , 0.2274 ],\n",
       "        [0.1059 , 0.153  , 0.149  ]],\n",
       "\n",
       "       [[0.0941 , 0.1255 , 0.1216 ],\n",
       "        [0.1451 , 0.1765 , 0.1726 ],\n",
       "        [0.1765 , 0.2079 , 0.204  ],\n",
       "        ...,\n",
       "        [0.2354 , 0.2825 , 0.2783 ],\n",
       "        [0.1686 , 0.2157 , 0.2118 ],\n",
       "        [0.0902 , 0.1372 , 0.1333 ]],\n",
       "\n",
       "       ...,\n",
       "\n",
       "       [[0.1843 , 0.1843 , 0.2313 ],\n",
       "        [0.3372 , 0.3372 , 0.3843 ],\n",
       "        [0.3804 , 0.3804 , 0.4275 ],\n",
       "        ...,\n",
       "        [0.3804 , 0.4314 , 0.4626 ],\n",
       "        [0.3215 , 0.3647 , 0.396  ],\n",
       "        [0.1882 , 0.2313 , 0.2627 ]],\n",
       "\n",
       "       [[0.2079 , 0.2079 , 0.255  ],\n",
       "        [0.3452 , 0.3452 , 0.392  ],\n",
       "        [0.3647 , 0.3647 , 0.4119 ],\n",
       "        ...,\n",
       "        [0.4    , 0.451  , 0.4824 ],\n",
       "        [0.306  , 0.349  , 0.3804 ],\n",
       "        [0.1765 , 0.2196 , 0.251  ]],\n",
       "\n",
       "       [[0.0392 , 0.0392 , 0.0863 ],\n",
       "        [0.1686 , 0.1686 , 0.2157 ],\n",
       "        [0.1804 , 0.1804 , 0.2274 ],\n",
       "        ...,\n",
       "        [0.153  , 0.204  , 0.2354 ],\n",
       "        [0.1921 , 0.2354 , 0.2666 ],\n",
       "        [0.06274, 0.1059 , 0.1372 ]]], dtype=float16)"
      ]
     },
     "execution_count": 18,
     "metadata": {},
     "output_type": "execute_result"
    }
   ],
   "source": [
    "frame"
   ]
  },
  {
   "cell_type": "code",
   "execution_count": 23,
   "metadata": {},
   "outputs": [
    {
     "name": "stdout",
     "output_type": "stream",
     "text": [
      "Help on class VideoCapture in module cv2.cv2:\n",
      "\n",
      "class VideoCapture(builtins.object)\n",
      " |  Methods defined here:\n",
      " |  \n",
      " |  __init__(self, /, *args, **kwargs)\n",
      " |      Initialize self.  See help(type(self)) for accurate signature.\n",
      " |  \n",
      " |  __new__(*args, **kwargs) from builtins.type\n",
      " |      Create and return a new object.  See help(type) for accurate signature.\n",
      " |  \n",
      " |  __repr__(self, /)\n",
      " |      Return repr(self).\n",
      " |  \n",
      " |  get(...)\n",
      " |      get(propId) -> retval\n",
      " |      .   @brief Returns the specified VideoCapture property\n",
      " |      .   \n",
      " |      .   @param propId Property identifier from cv::VideoCaptureProperties (eg. cv::CAP_PROP_POS_MSEC, cv::CAP_PROP_POS_FRAMES, ...)\n",
      " |      .   or one from @ref videoio_flags_others\n",
      " |      .   @return Value for the specified property. Value 0 is returned when querying a property that is\n",
      " |      .   not supported by the backend used by the VideoCapture instance.\n",
      " |      .   \n",
      " |      .   @note Reading / writing properties involves many layers. Some unexpected result might happens\n",
      " |      .   along this chain.\n",
      " |      .   @code {.txt}\n",
      " |      .   `VideoCapture -> API Backend -> Operating System -> Device Driver -> Device Hardware`\n",
      " |      .   @endcode\n",
      " |      .   The returned value might be different from what really used by the device or it could be encoded\n",
      " |      .   using device dependent rules (eg. steps or percentage). Effective behaviour depends from device\n",
      " |      .   driver and API Backend\n",
      " |  \n",
      " |  getBackendName(...)\n",
      " |      getBackendName() -> retval\n",
      " |      .   @brief Returns used backend API name\n",
      " |      .   \n",
      " |      .   @note Stream should be opened.\n",
      " |  \n",
      " |  grab(...)\n",
      " |      grab() -> retval\n",
      " |      .   @brief Grabs the next frame from video file or capturing device.\n",
      " |      .   \n",
      " |      .   @return `true` (non-zero) in the case of success.\n",
      " |      .   \n",
      " |      .   The method/function grabs the next frame from video file or camera and returns true (non-zero) in\n",
      " |      .   the case of success.\n",
      " |      .   \n",
      " |      .   The primary use of the function is in multi-camera environments, especially when the cameras do not\n",
      " |      .   have hardware synchronization. That is, you call VideoCapture::grab() for each camera and after that\n",
      " |      .   call the slower method VideoCapture::retrieve() to decode and get frame from each camera. This way\n",
      " |      .   the overhead on demosaicing or motion jpeg decompression etc. is eliminated and the retrieved frames\n",
      " |      .   from different cameras will be closer in time.\n",
      " |      .   \n",
      " |      .   Also, when a connected camera is multi-head (for example, a stereo camera or a Kinect device), the\n",
      " |      .   correct way of retrieving data from it is to call VideoCapture::grab() first and then call\n",
      " |      .   VideoCapture::retrieve() one or more times with different values of the channel parameter.\n",
      " |      .   \n",
      " |      .   @ref tutorial_kinect_openni\n",
      " |  \n",
      " |  isOpened(...)\n",
      " |      isOpened() -> retval\n",
      " |      .   @brief Returns true if video capturing has been initialized already.\n",
      " |      .   \n",
      " |      .   If the previous call to VideoCapture constructor or VideoCapture::open() succeeded, the method returns\n",
      " |      .   true.\n",
      " |  \n",
      " |  open(...)\n",
      " |      open(filename) -> retval\n",
      " |      .   @brief  Open video file or a capturing device or a IP video stream for video capturing\n",
      " |      .   \n",
      " |      .   @overload\n",
      " |      .   \n",
      " |      .   Parameters are same as the constructor VideoCapture(const String& filename)\n",
      " |      .   @return `true` if the file has been successfully opened\n",
      " |      .   \n",
      " |      .   The method first calls VideoCapture::release to close the already opened file or camera.\n",
      " |      \n",
      " |      \n",
      " |      \n",
      " |      open(index) -> retval\n",
      " |      .   @brief  Open a camera for video capturing\n",
      " |      .   \n",
      " |      .   @overload\n",
      " |      .   \n",
      " |      .   Parameters are same as the constructor VideoCapture(int index)\n",
      " |      .   @return `true` if the camera has been successfully opened.\n",
      " |      .   \n",
      " |      .   The method first calls VideoCapture::release to close the already opened file or camera.\n",
      " |      \n",
      " |      \n",
      " |      \n",
      " |      open(cameraNum, apiPreference) -> retval\n",
      " |      .   @brief  Open a camera for video capturing\n",
      " |      .   \n",
      " |      .   @overload\n",
      " |      .   \n",
      " |      .   Parameters are similar as the constructor VideoCapture(int index),except it takes an additional argument apiPreference.\n",
      " |      .   Definitely, is same as open(int index) where `index=cameraNum + apiPreference`\n",
      " |      .   @return `true` if the camera has been successfully opened.\n",
      " |      \n",
      " |      \n",
      " |      \n",
      " |      open(filename, apiPreference) -> retval\n",
      " |      .   @brief Open video file or a capturing device or a IP video stream for video capturing with API Preference\n",
      " |      .   \n",
      " |      .   @overload\n",
      " |      .   \n",
      " |      .   Parameters are same as the constructor VideoCapture(const String& filename, int apiPreference)\n",
      " |      .   @return `true` if the file has been successfully opened\n",
      " |      .   \n",
      " |      .   The method first calls VideoCapture::release to close the already opened file or camera.\n",
      " |  \n",
      " |  read(...)\n",
      " |      read([, image]) -> retval, image\n",
      " |      .   @brief Grabs, decodes and returns the next video frame.\n",
      " |      .   \n",
      " |      .   @param [out] image the video frame is returned here. If no frames has been grabbed the image will be empty.\n",
      " |      .   @return `false` if no frames has been grabbed\n",
      " |      .   \n",
      " |      .   The method/function combines VideoCapture::grab() and VideoCapture::retrieve() in one call. This is the\n",
      " |      .   most convenient method for reading video files or capturing data from decode and returns the just\n",
      " |      .   grabbed frame. If no frames has been grabbed (camera has been disconnected, or there are no more\n",
      " |      .   frames in video file), the method returns false and the function returns empty image (with %cv::Mat, test it with Mat::empty()).\n",
      " |      .   \n",
      " |      .   @note In @ref videoio_c \"C API\", functions cvRetrieveFrame() and cv.RetrieveFrame() return image stored inside the video\n",
      " |      .   capturing structure. It is not allowed to modify or release the image! You can copy the frame using\n",
      " |      .   cvCloneImage and then do whatever you want with the copy.\n",
      " |  \n",
      " |  release(...)\n",
      " |      release() -> None\n",
      " |      .   @brief Closes video file or capturing device.\n",
      " |      .   \n",
      " |      .   The method is automatically called by subsequent VideoCapture::open and by VideoCapture\n",
      " |      .   destructor.\n",
      " |      .   \n",
      " |      .   The C function also deallocates memory and clears \\*capture pointer.\n",
      " |  \n",
      " |  retrieve(...)\n",
      " |      retrieve([, image[, flag]]) -> retval, image\n",
      " |      .   @brief Decodes and returns the grabbed video frame.\n",
      " |      .   \n",
      " |      .   @param [out] image the video frame is returned here. If no frames has been grabbed the image will be empty.\n",
      " |      .   @param flag it could be a frame index or a driver specific flag\n",
      " |      .   @return `false` if no frames has been grabbed\n",
      " |      .   \n",
      " |      .   The method decodes and returns the just grabbed frame. If no frames has been grabbed\n",
      " |      .   (camera has been disconnected, or there are no more frames in video file), the method returns false\n",
      " |      .   and the function returns an empty image (with %cv::Mat, test it with Mat::empty()).\n",
      " |      .   \n",
      " |      .   @sa read()\n",
      " |      .   \n",
      " |      .   @note In @ref videoio_c \"C API\", functions cvRetrieveFrame() and cv.RetrieveFrame() return image stored inside the video\n",
      " |      .   capturing structure. It is not allowed to modify or release the image! You can copy the frame using\n",
      " |      .   cvCloneImage and then do whatever you want with the copy.\n",
      " |  \n",
      " |  set(...)\n",
      " |      set(propId, value) -> retval\n",
      " |      .   @brief Sets a property in the VideoCapture.\n",
      " |      .   \n",
      " |      .   @param propId Property identifier from cv::VideoCaptureProperties (eg. cv::CAP_PROP_POS_MSEC, cv::CAP_PROP_POS_FRAMES, ...)\n",
      " |      .   or one from @ref videoio_flags_others\n",
      " |      .   @param value Value of the property.\n",
      " |      .   @return `true` if the property is supported by backend used by the VideoCapture instance.\n",
      " |      .   @note Even if it returns `true` this doesn't ensure that the property\n",
      " |      .   value has been accepted by the capture device. See note in VideoCapture::get()\n",
      "\n"
     ]
    }
   ],
   "source": [
    "help(cv2.VideoCapture)"
   ]
  },
  {
   "cell_type": "code",
   "execution_count": 2,
   "metadata": {},
   "outputs": [],
   "source": [
    "a = cv2.VideoCapture(\"traffic-mini.mp4\")"
   ]
  },
  {
   "cell_type": "code",
   "execution_count": 3,
   "metadata": {},
   "outputs": [],
   "source": [
    "a.set(cv2.CAP_PROP_POS_FRAMES, 5)"
   ]
  },
  {
   "cell_type": "code",
   "execution_count": 4,
   "metadata": {},
   "outputs": [],
   "source": [
    "fps = a.get(cv2.CAP_PROP_FPS)"
   ]
  },
  {
   "cell_type": "code",
   "execution_count": 7,
   "metadata": {},
   "outputs": [
    {
     "name": "stdout",
     "output_type": "stream",
     "text": [
      "29.97\n"
     ]
    }
   ],
   "source": [
    "print(fps)"
   ]
  },
  {
   "cell_type": "code",
   "execution_count": 2,
   "metadata": {},
   "outputs": [],
   "source": [
    "def box_index(position, box):\n",
    "    '''give the relative score of box and the position'''\n",
    "    x = position[0]\n",
    "    y = position[1]\n",
    "    x1 = box[0]\n",
    "    y1 = box[1]\n",
    "    x2 = box[2]\n",
    "    y2 = box[3]\n",
    "\n",
    "    return 1 - (abs(x - (x1+x2) / 2) / abs(x2 - x1) + abs(y - (y1 + y2) / 2) / abs(y1 -y2))"
   ]
  },
  {
   "cell_type": "code",
   "execution_count": 7,
   "metadata": {},
   "outputs": [
    {
     "data": {
      "text/plain": [
       "1.0"
      ]
     },
     "execution_count": 7,
     "metadata": {},
     "output_type": "execute_result"
    }
   ],
   "source": [
    "box_index([2.5,3], [1,5,4,1])"
   ]
  },
  {
   "cell_type": "code",
   "execution_count": null,
   "metadata": {},
   "outputs": [],
   "source": []
  }
 ],
 "metadata": {
  "hide_input": false,
  "kernelspec": {
   "display_name": "Python 3",
   "language": "python",
   "name": "python3"
  },
  "language_info": {
   "codemirror_mode": {
    "name": "ipython",
    "version": 3
   },
   "file_extension": ".py",
   "mimetype": "text/x-python",
   "name": "python",
   "nbconvert_exporter": "python",
   "pygments_lexer": "ipython3",
   "version": "3.6.5"
  }
 },
 "nbformat": 4,
 "nbformat_minor": 2
}
